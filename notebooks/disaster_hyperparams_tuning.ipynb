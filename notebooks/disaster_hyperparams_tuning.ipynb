{
 "cells": [
  {
   "cell_type": "code",
   "execution_count": 1,
   "metadata": {
    "ExecuteTime": {
     "end_time": "2020-01-03T19:30:07.562209Z",
     "start_time": "2020-01-03T19:29:58.862555Z"
    }
   },
   "outputs": [],
   "source": [
    "import matplotlib.pyplot as plt\n",
    "from nltk.corpus import stopwords\n",
    "import numpy as np\n",
    "import pandas as pd\n",
    "from sklearn.linear_model import LogisticRegression\n",
    "from sklearn.metrics import confusion_matrix, classification_report, accuracy_score, f1_score,roc_curve\n",
    "from sklearn.metrics import roc_auc_score\n",
    "from sklearn.model_selection import train_test_split\n",
    "from sklearn.model_selection import GridSearchCV\n",
    "from sklearn.naive_bayes import GaussianNB\n",
    "from sklearn.svm import LinearSVC\n",
    "from sklearn.svm import SVC"
   ]
  },
  {
   "cell_type": "code",
   "execution_count": 2,
   "metadata": {
    "ExecuteTime": {
     "end_time": "2020-01-03T19:30:55.868904Z",
     "start_time": "2020-01-03T19:30:55.860733Z"
    }
   },
   "outputs": [],
   "source": [
    "pd.options.display.max_colwidth = 280"
   ]
  },
  {
   "cell_type": "code",
   "execution_count": 3,
   "metadata": {
    "ExecuteTime": {
     "end_time": "2020-01-03T19:30:56.765573Z",
     "start_time": "2020-01-03T19:30:56.578822Z"
    }
   },
   "outputs": [
    {
     "data": {
      "text/html": [
       "<div>\n",
       "<style scoped>\n",
       "    .dataframe tbody tr th:only-of-type {\n",
       "        vertical-align: middle;\n",
       "    }\n",
       "\n",
       "    .dataframe tbody tr th {\n",
       "        vertical-align: top;\n",
       "    }\n",
       "\n",
       "    .dataframe thead th {\n",
       "        text-align: right;\n",
       "    }\n",
       "</style>\n",
       "<table border=\"1\" class=\"dataframe\">\n",
       "  <thead>\n",
       "    <tr style=\"text-align: right;\">\n",
       "      <th></th>\n",
       "      <th>id</th>\n",
       "      <th>keyword</th>\n",
       "      <th>location</th>\n",
       "      <th>text</th>\n",
       "      <th>target</th>\n",
       "    </tr>\n",
       "  </thead>\n",
       "  <tbody>\n",
       "    <tr>\n",
       "      <td>0</td>\n",
       "      <td>1</td>\n",
       "      <td>NaN</td>\n",
       "      <td>NaN</td>\n",
       "      <td>Our Deeds are the Reason of this #earthquake May ALLAH Forgive us all</td>\n",
       "      <td>1</td>\n",
       "    </tr>\n",
       "    <tr>\n",
       "      <td>1</td>\n",
       "      <td>4</td>\n",
       "      <td>NaN</td>\n",
       "      <td>NaN</td>\n",
       "      <td>Forest fire near La Ronge Sask. Canada</td>\n",
       "      <td>1</td>\n",
       "    </tr>\n",
       "    <tr>\n",
       "      <td>2</td>\n",
       "      <td>5</td>\n",
       "      <td>NaN</td>\n",
       "      <td>NaN</td>\n",
       "      <td>All residents asked to 'shelter in place' are being notified by officers. No other evacuation or shelter in place orders are expected</td>\n",
       "      <td>1</td>\n",
       "    </tr>\n",
       "    <tr>\n",
       "      <td>3</td>\n",
       "      <td>6</td>\n",
       "      <td>NaN</td>\n",
       "      <td>NaN</td>\n",
       "      <td>13,000 people receive #wildfires evacuation orders in California</td>\n",
       "      <td>1</td>\n",
       "    </tr>\n",
       "    <tr>\n",
       "      <td>4</td>\n",
       "      <td>7</td>\n",
       "      <td>NaN</td>\n",
       "      <td>NaN</td>\n",
       "      <td>Just got sent this photo from Ruby #Alaska as smoke from #wildfires pours into a school</td>\n",
       "      <td>1</td>\n",
       "    </tr>\n",
       "  </tbody>\n",
       "</table>\n",
       "</div>"
      ],
      "text/plain": [
       "   id keyword location  \\\n",
       "0   1     NaN      NaN   \n",
       "1   4     NaN      NaN   \n",
       "2   5     NaN      NaN   \n",
       "3   6     NaN      NaN   \n",
       "4   7     NaN      NaN   \n",
       "\n",
       "                                                                                                                                    text  \\\n",
       "0                                                                  Our Deeds are the Reason of this #earthquake May ALLAH Forgive us all   \n",
       "1                                                                                                 Forest fire near La Ronge Sask. Canada   \n",
       "2  All residents asked to 'shelter in place' are being notified by officers. No other evacuation or shelter in place orders are expected   \n",
       "3                                                                      13,000 people receive #wildfires evacuation orders in California    \n",
       "4                                               Just got sent this photo from Ruby #Alaska as smoke from #wildfires pours into a school    \n",
       "\n",
       "   target  \n",
       "0       1  \n",
       "1       1  \n",
       "2       1  \n",
       "3       1  \n",
       "4       1  "
      ]
     },
     "execution_count": 3,
     "metadata": {},
     "output_type": "execute_result"
    }
   ],
   "source": [
    "# read in the trian and the test csv\n",
    "df = pd.read_csv(\"../data/train.csv\")\n",
    "test = pd.read_csv(\"../data/test.csv\")\n",
    "df.head()"
   ]
  },
  {
   "cell_type": "code",
   "execution_count": 4,
   "metadata": {
    "ExecuteTime": {
     "end_time": "2020-01-03T19:30:59.568976Z",
     "start_time": "2020-01-03T19:30:59.537317Z"
    }
   },
   "outputs": [
    {
     "name": "stdout",
     "output_type": "stream",
     "text": [
      "<class 'pandas.core.frame.DataFrame'>\n",
      "RangeIndex: 7613 entries, 0 to 7612\n",
      "Data columns (total 5 columns):\n",
      "id          7613 non-null int64\n",
      "keyword     7552 non-null object\n",
      "location    5080 non-null object\n",
      "text        7613 non-null object\n",
      "target      7613 non-null int64\n",
      "dtypes: int64(2), object(3)\n",
      "memory usage: 297.5+ KB\n"
     ]
    }
   ],
   "source": [
    "df.info()"
   ]
  },
  {
   "cell_type": "code",
   "execution_count": 5,
   "metadata": {
    "ExecuteTime": {
     "end_time": "2020-01-03T19:31:01.259948Z",
     "start_time": "2020-01-03T19:31:01.245814Z"
    }
   },
   "outputs": [
    {
     "data": {
      "text/plain": [
       "0.4296597924602653"
      ]
     },
     "execution_count": 5,
     "metadata": {},
     "output_type": "execute_result"
    }
   ],
   "source": [
    "# checking the class distribution\n",
    "df.target.sum()/df.shape[0]"
   ]
  },
  {
   "cell_type": "markdown",
   "metadata": {},
   "source": [
    "### nlp functions"
   ]
  },
  {
   "cell_type": "code",
   "execution_count": 6,
   "metadata": {
    "ExecuteTime": {
     "end_time": "2020-01-03T19:31:03.152613Z",
     "start_time": "2020-01-03T19:31:03.141987Z"
    }
   },
   "outputs": [],
   "source": [
    "def text_normalization(series):\n",
    "    # normalization of the text and replacing any hastags and nonalphanumeric chars\n",
    "    temp = series.str.lower()\n",
    "    temp = temp.str.replace('[^a-zA-Z0-9, ]', '')\n",
    "    temp = temp.str.split()\n",
    "    # removing the stopwords in the text and turning the entry to a list of words\n",
    "    stop = stopwords.words('english')\n",
    "    temp = temp.apply(lambda words: [word for word in words if word not in stop])\n",
    "    return temp"
   ]
  },
  {
   "cell_type": "code",
   "execution_count": 7,
   "metadata": {
    "ExecuteTime": {
     "end_time": "2020-01-03T19:31:04.041703Z",
     "start_time": "2020-01-03T19:31:04.030468Z"
    }
   },
   "outputs": [],
   "source": [
    "def load_glove(filename):\n",
    "    \"\"\"\n",
    "    Read all lines from the indicated file and return a dictionary\n",
    "    mapping word:vector where vectors are of numpy `array` type.\n",
    "    GloVe file lines are of the form:\n",
    "\n",
    "    the 0.418 0.24968 -0.41242 0.1217 ...\n",
    "\n",
    "    So split each line on spaces into a list; the first element is the word\n",
    "    and the remaining elements represent factor components. The length of the vector\n",
    "    should not matter; read vectors of any length.\n",
    "    \"\"\"\n",
    "\n",
    "    #open and read in the files in lines\n",
    "    with open(filename, 'r') as f:\n",
    "        word_vecs = f.readlines()\n",
    "\n",
    "    #create the dictionary where the word is key and the value is the word vector\n",
    "    mapping = {}\n",
    "    for word_vec in word_vecs:\n",
    "        temp = word_vec.split()\n",
    "        mapping[temp[0]] = np.array(temp[1:], dtype = float)\n",
    "    return mapping"
   ]
  },
  {
   "cell_type": "code",
   "execution_count": 8,
   "metadata": {
    "ExecuteTime": {
     "end_time": "2020-01-03T19:32:11.003628Z",
     "start_time": "2020-01-03T19:31:07.727332Z"
    }
   },
   "outputs": [],
   "source": [
    "word_dict = load_glove('../glove.twitter.27B/glove.twitter.27B.100d.txt')"
   ]
  },
  {
   "cell_type": "code",
   "execution_count": 9,
   "metadata": {
    "ExecuteTime": {
     "end_time": "2020-01-03T19:32:13.953867Z",
     "start_time": "2020-01-03T19:32:13.944762Z"
    }
   },
   "outputs": [],
   "source": [
    "def avg_doc2vec(text, gloves=word_dict):\n",
    "    \"\"\"\n",
    "    Return the average word vector for the tweet. Sum the word vectors\n",
    "    for each word and then divide by the number of words. Ignore words\n",
    "    not in gloves.\n",
    "    \"\"\"\n",
    "    \n",
    "    vec = np.zeros(len(text))\n",
    "    # flag for if its the first word\n",
    "    flag = 1\n",
    "    # iterate through the list of words to sum up the word vectors in the doc\n",
    "    for word in text:\n",
    "        if word in gloves.keys():\n",
    "            if flag == 1:\n",
    "                vec = gloves[word]\n",
    "                flag = 0\n",
    "            else:\n",
    "                vec = np.add(vec, gloves[word])\n",
    "\n",
    "    # return the average vector\n",
    "    return vec/len(text)"
   ]
  },
  {
   "cell_type": "code",
   "execution_count": 10,
   "metadata": {
    "ExecuteTime": {
     "end_time": "2020-01-03T19:32:17.994426Z",
     "start_time": "2020-01-03T19:32:17.986222Z"
    }
   },
   "outputs": [],
   "source": [
    "def create_data(dataframe, length):\n",
    "    \"\"\"turning the series of word embedding vectors into a nd array.\"\"\"\n",
    "    X = np.empty([dataframe.shape[0], length])\n",
    "    y = np.empty([dataframe.shape[0]])\n",
    "    for idx, row in dataframe.iterrows():\n",
    "        try:\n",
    "            X[idx, :] = row.text\n",
    "        except:\n",
    "            X[idx, :] = np.zeros(length)\n",
    "        y[idx] = row.target\n",
    "    return (X, y)"
   ]
  },
  {
   "cell_type": "markdown",
   "metadata": {},
   "source": [
    "### Logistic Regression (100d word embeddings)"
   ]
  },
  {
   "cell_type": "code",
   "execution_count": 11,
   "metadata": {
    "ExecuteTime": {
     "end_time": "2020-01-03T19:32:29.501166Z",
     "start_time": "2020-01-03T19:32:27.490314Z"
    }
   },
   "outputs": [],
   "source": [
    "# normalizing the text and creating an average doc2vec\n",
    "#df = pd.read_csv(\"../data/train.csv\")\n",
    "df['text'] = text_normalization(df.text)\n",
    "df['text'] = df.text.apply(avg_doc2vec)\n",
    "# creating the data and splitting it\n",
    "X, y = create_data(df, 100)\n",
    "#X_train, X_test, y_train, y_test = train_test_split(X, y, random_state=42)"
   ]
  },
  {
   "cell_type": "code",
   "execution_count": 12,
   "metadata": {
    "ExecuteTime": {
     "end_time": "2020-01-03T19:32:32.289969Z",
     "start_time": "2020-01-03T19:32:32.270442Z"
    }
   },
   "outputs": [],
   "source": [
    "X_train, X_test, y_train, y_test = train_test_split(X, y, random_state=42)"
   ]
  },
  {
   "cell_type": "code",
   "execution_count": 13,
   "metadata": {
    "ExecuteTime": {
     "end_time": "2020-01-03T19:32:35.056814Z",
     "start_time": "2020-01-03T19:32:34.791895Z"
    }
   },
   "outputs": [
    {
     "data": {
      "text/plain": [
       "LogisticRegression(C=1.0, class_weight=None, dual=False, fit_intercept=True,\n",
       "                   intercept_scaling=1, l1_ratio=None, max_iter=200,\n",
       "                   multi_class='warn', n_jobs=None, penalty='l2',\n",
       "                   random_state=None, solver='lbfgs', tol=0.0001, verbose=0,\n",
       "                   warm_start=False)"
      ]
     },
     "execution_count": 13,
     "metadata": {},
     "output_type": "execute_result"
    }
   ],
   "source": [
    "# trying a logistic regression\n",
    "log = LogisticRegression(solver='lbfgs', max_iter=200)\n",
    "log.fit(X_train, y_train)"
   ]
  },
  {
   "cell_type": "code",
   "execution_count": 14,
   "metadata": {
    "ExecuteTime": {
     "end_time": "2020-01-03T19:32:48.274239Z",
     "start_time": "2020-01-03T19:32:48.257587Z"
    }
   },
   "outputs": [
    {
     "name": "stdout",
     "output_type": "stream",
     "text": [
      "Training Accuracy w/ Logistic Regression: 0.8004904536696444\n",
      "Testing Accuracy w/ Logistic Regression: 0.7883403361344538\n"
     ]
    }
   ],
   "source": [
    "# evaluation metrics w/ 100d\n",
    "print(f\"Training Accuracy w/ Logistic Regression: {accuracy_score(y_train, log.predict(X_train))}\")\n",
    "print(f\"Testing Accuracy w/ Logistic Regression: {accuracy_score(y_test, log.predict(X_test))}\")"
   ]
  },
  {
   "cell_type": "code",
   "execution_count": 15,
   "metadata": {
    "ExecuteTime": {
     "end_time": "2020-01-03T19:32:52.043857Z",
     "start_time": "2020-01-03T19:32:52.022655Z"
    }
   },
   "outputs": [
    {
     "name": "stdout",
     "output_type": "stream",
     "text": [
      "Training F1-Score w/ Logistic Regression: 0.7546844712470385\n",
      "Testing F1-Score w/ Logistic Regression: 0.7405022537025112\n"
     ]
    }
   ],
   "source": [
    "# evaluation metrics w/ 100d\n",
    "print(f\"Training F1-Score w/ Logistic Regression: {f1_score(y_train, log.predict(X_train))}\")\n",
    "print(f\"Testing F1-Score w/ Logistic Regression: {f1_score(y_test, log.predict(X_test))}\")"
   ]
  },
  {
   "cell_type": "code",
   "execution_count": 23,
   "metadata": {
    "ExecuteTime": {
     "end_time": "2020-01-03T19:38:25.223205Z",
     "start_time": "2020-01-03T19:38:25.214010Z"
    }
   },
   "outputs": [],
   "source": [
    "log_fpr, log_tpr, thresholds = roc_curve(y_train, log.predict_proba(X_train)[:,1])"
   ]
  },
  {
   "cell_type": "code",
   "execution_count": 24,
   "metadata": {
    "ExecuteTime": {
     "end_time": "2020-01-03T19:38:27.179187Z",
     "start_time": "2020-01-03T19:38:26.984239Z"
    }
   },
   "outputs": [
    {
     "data": {
      "image/png": "[encoded data removed]",
      "text/plain": [
       "<Figure size 432x288 with 1 Axes>"
      ]
     },
     "metadata": {
      "needs_background": "light"
     },
     "output_type": "display_data"
    }
   ],
   "source": [
    "plt.plot([0,1], [0,1])\n",
    "plt.plot(log_fpr, log_tpr)\n",
    "plt.title('Logistic Regression ROC Curve')\n",
    "plt.xlabel('False Positive Rate')\n",
    "plt.ylabel('True Positive Rate')\n",
    "plt.show()"
   ]
  },
  {
   "cell_type": "code",
   "execution_count": 25,
   "metadata": {
    "ExecuteTime": {
     "end_time": "2020-01-03T19:38:35.783678Z",
     "start_time": "2020-01-03T19:38:35.766095Z"
    }
   },
   "outputs": [
    {
     "name": "stdout",
     "output_type": "stream",
     "text": [
      "Training AUC Score: 0.8670792037700611\n",
      "Testing AUC Score: 0.8565327633111346\n"
     ]
    }
   ],
   "source": [
    "print(f\"Training AUC Score: {roc_auc_score(y_train, log.predict_proba(X_train)[:,1])}\")\n",
    "print(f\"Testing AUC Score: {roc_auc_score(y_test, log.predict_proba(X_test)[:,1])}\")"
   ]
  },
  {
   "cell_type": "markdown",
   "metadata": {},
   "source": [
    "### Out of Sample"
   ]
  },
  {
   "cell_type": "code",
   "execution_count": 28,
   "metadata": {
    "ExecuteTime": {
     "end_time": "2020-01-03T19:52:12.517101Z",
     "start_time": "2020-01-03T19:52:12.509295Z"
    }
   },
   "outputs": [],
   "source": [
    "def create_sub(dataframe, length):\n",
    "    # turning the series of word embedding vectors into a nd array\n",
    "    X = np.empty([dataframe.shape[0], length])\n",
    "    y = np.empty([dataframe.shape[0]])\n",
    "    for idx, row in dataframe.iterrows():\n",
    "        try:\n",
    "            X[idx, :] = row.text\n",
    "        except:\n",
    "            X[idx, :] = np.zeros(length)\n",
    "    return X"
   ]
  },
  {
   "cell_type": "code",
   "execution_count": 29,
   "metadata": {
    "ExecuteTime": {
     "end_time": "2020-01-03T19:52:18.238710Z",
     "start_time": "2020-01-03T19:52:16.393975Z"
    }
   },
   "outputs": [],
   "source": [
    "# normalizing the text and creating an average doc2vec\n",
    "df = pd.read_csv(\"../data/train.csv\")\n",
    "df['text'] = text_normalization(df.text)\n",
    "df['text'] = df.text.apply(avg_doc2vec)\n",
    "# creating the data and splitting it\n",
    "X, y = create_data(df, 100)"
   ]
  },
  {
   "cell_type": "code",
   "execution_count": 30,
   "metadata": {
    "ExecuteTime": {
     "end_time": "2020-01-03T19:52:19.825828Z",
     "start_time": "2020-01-03T19:52:19.014002Z"
    }
   },
   "outputs": [],
   "source": [
    "test = pd.read_csv(\"../data/test.csv\")\n",
    "test['text'] = text_normalization(test.text)\n",
    "test['text'] = test.text.apply(avg_doc2vec)\n",
    "X_test = create_sub(test, 100)"
   ]
  },
  {
   "cell_type": "code",
   "execution_count": 31,
   "metadata": {
    "ExecuteTime": {
     "end_time": "2020-01-03T19:52:22.254333Z",
     "start_time": "2020-01-03T19:52:22.107604Z"
    }
   },
   "outputs": [
    {
     "data": {
      "text/plain": [
       "LogisticRegression(C=1.0, class_weight=None, dual=False, fit_intercept=True,\n",
       "                   intercept_scaling=1, l1_ratio=None, max_iter=200,\n",
       "                   multi_class='warn', n_jobs=None, penalty='l2',\n",
       "                   random_state=None, solver='lbfgs', tol=0.0001, verbose=0,\n",
       "                   warm_start=False)"
      ]
     },
     "execution_count": 31,
     "metadata": {},
     "output_type": "execute_result"
    }
   ],
   "source": [
    "# trying a logistic regression\n",
    "log = LogisticRegression(solver='lbfgs', max_iter=200)\n",
    "log.fit(X, y)"
   ]
  },
  {
   "cell_type": "code",
   "execution_count": 32,
   "metadata": {
    "ExecuteTime": {
     "end_time": "2020-01-03T19:52:24.711866Z",
     "start_time": "2020-01-03T19:52:24.686656Z"
    }
   },
   "outputs": [
    {
     "name": "stdout",
     "output_type": "stream",
     "text": [
      "Training Accuracy w/ Logistic Regression: 0.7987652699330093\n",
      "Training F1-Score w/ Logistic Regression: 0.7525839793281655\n",
      "Training AUC Score w/ Logistic Regression: 0.8657637691247329\n"
     ]
    }
   ],
   "source": [
    "# evaluation metrics w/ 100d\n",
    "print(f\"Training Accuracy w/ Logistic Regression: {accuracy_score(y, log.predict(X))}\")\n",
    "print(f\"Training F1-Score w/ Logistic Regression: {f1_score(y, log.predict(X))}\")\n",
    "print(f\"Training AUC Score w/ Logistic Regression: {roc_auc_score(y, log.predict_proba(X)[:,1])}\")"
   ]
  },
  {
   "cell_type": "code",
   "execution_count": 33,
   "metadata": {
    "ExecuteTime": {
     "end_time": "2020-01-03T19:52:29.185672Z",
     "start_time": "2020-01-03T19:52:29.160213Z"
    }
   },
   "outputs": [
    {
     "data": {
      "text/html": [
       "<div>\n",
       "<style scoped>\n",
       "    .dataframe tbody tr th:only-of-type {\n",
       "        vertical-align: middle;\n",
       "    }\n",
       "\n",
       "    .dataframe tbody tr th {\n",
       "        vertical-align: top;\n",
       "    }\n",
       "\n",
       "    .dataframe thead th {\n",
       "        text-align: right;\n",
       "    }\n",
       "</style>\n",
       "<table border=\"1\" class=\"dataframe\">\n",
       "  <thead>\n",
       "    <tr style=\"text-align: right;\">\n",
       "      <th></th>\n",
       "      <th>id</th>\n",
       "      <th>target</th>\n",
       "    </tr>\n",
       "  </thead>\n",
       "  <tbody>\n",
       "    <tr>\n",
       "      <td>0</td>\n",
       "      <td>0</td>\n",
       "      <td>1</td>\n",
       "    </tr>\n",
       "    <tr>\n",
       "      <td>1</td>\n",
       "      <td>2</td>\n",
       "      <td>1</td>\n",
       "    </tr>\n",
       "    <tr>\n",
       "      <td>2</td>\n",
       "      <td>3</td>\n",
       "      <td>1</td>\n",
       "    </tr>\n",
       "    <tr>\n",
       "      <td>3</td>\n",
       "      <td>9</td>\n",
       "      <td>1</td>\n",
       "    </tr>\n",
       "    <tr>\n",
       "      <td>4</td>\n",
       "      <td>11</td>\n",
       "      <td>1</td>\n",
       "    </tr>\n",
       "    <tr>\n",
       "      <td>...</td>\n",
       "      <td>...</td>\n",
       "      <td>...</td>\n",
       "    </tr>\n",
       "    <tr>\n",
       "      <td>3258</td>\n",
       "      <td>10861</td>\n",
       "      <td>1</td>\n",
       "    </tr>\n",
       "    <tr>\n",
       "      <td>3259</td>\n",
       "      <td>10865</td>\n",
       "      <td>1</td>\n",
       "    </tr>\n",
       "    <tr>\n",
       "      <td>3260</td>\n",
       "      <td>10868</td>\n",
       "      <td>1</td>\n",
       "    </tr>\n",
       "    <tr>\n",
       "      <td>3261</td>\n",
       "      <td>10874</td>\n",
       "      <td>1</td>\n",
       "    </tr>\n",
       "    <tr>\n",
       "      <td>3262</td>\n",
       "      <td>10875</td>\n",
       "      <td>1</td>\n",
       "    </tr>\n",
       "  </tbody>\n",
       "</table>\n",
       "<p>3263 rows × 2 columns</p>\n",
       "</div>"
      ],
      "text/plain": [
       "         id  target\n",
       "0         0       1\n",
       "1         2       1\n",
       "2         3       1\n",
       "3         9       1\n",
       "4        11       1\n",
       "...     ...     ...\n",
       "3258  10861       1\n",
       "3259  10865       1\n",
       "3260  10868       1\n",
       "3261  10874       1\n",
       "3262  10875       1\n",
       "\n",
       "[3263 rows x 2 columns]"
      ]
     },
     "execution_count": 33,
     "metadata": {},
     "output_type": "execute_result"
    }
   ],
   "source": [
    "final = pd.DataFrame({'id': test.id.values, 'target': log.predict(X_test)})\n",
    "final['target'] = final.target.astype('int64')\n",
    "final"
   ]
  },
  {
   "cell_type": "code",
   "execution_count": 35,
   "metadata": {
    "ExecuteTime": {
     "end_time": "2020-01-03T19:53:06.569829Z",
     "start_time": "2020-01-03T19:53:06.538422Z"
    }
   },
   "outputs": [],
   "source": [
    "final.to_csv('DAM_sub_100d.csv', index=False)"
   ]
  },
  {
   "cell_type": "markdown",
   "metadata": {},
   "source": [
    "### SVC (Linear)"
   ]
  },
  {
   "cell_type": "code",
   "execution_count": 41,
   "metadata": {
    "ExecuteTime": {
     "end_time": "2020-01-03T19:58:31.988013Z",
     "start_time": "2020-01-03T19:58:29.638835Z"
    }
   },
   "outputs": [
    {
     "data": {
      "text/plain": [
       "LinearSVC(C=1.0, class_weight=None, dual=True, fit_intercept=True,\n",
       "          intercept_scaling=1, loss='squared_hinge', max_iter=1500,\n",
       "          multi_class='ovr', penalty='l2', random_state=None, tol=0.0001,\n",
       "          verbose=0)"
      ]
     },
     "execution_count": 41,
     "metadata": {},
     "output_type": "execute_result"
    }
   ],
   "source": [
    "svc = LinearSVC(max_iter=1500)\n",
    "svc.fit(X, y)"
   ]
  },
  {
   "cell_type": "code",
   "execution_count": 43,
   "metadata": {
    "ExecuteTime": {
     "end_time": "2020-01-03T19:59:26.870518Z",
     "start_time": "2020-01-03T19:59:26.850698Z"
    }
   },
   "outputs": [
    {
     "name": "stdout",
     "output_type": "stream",
     "text": [
      "Training Accuracy w/ SVC: 0.797583081570997\n",
      "Training F1-Score w/ SVC: 0.7485723609071626\n"
     ]
    }
   ],
   "source": [
    "# evaluation metrics w/ 100d\n",
    "print(f\"Training Accuracy w/ SVC: {accuracy_score(y, svc.predict(X))}\")\n",
    "print(f\"Training F1-Score w/ SVC: {f1_score(y, svc.predict(X))}\")\n",
    "#print(f\"Training AUC Score w/ SVC: {roc_auc_score(y, svc.predict_proba(X)[:,1])}\")"
   ]
  },
  {
   "cell_type": "markdown",
   "metadata": {},
   "source": [
    "### SVC (Hyperparameters Tuning) <- Best Model so far"
   ]
  },
  {
   "cell_type": "code",
   "execution_count": 146,
   "metadata": {
    "ExecuteTime": {
     "end_time": "2020-01-03T22:28:52.207045Z",
     "start_time": "2020-01-03T22:28:49.663881Z"
    }
   },
   "outputs": [],
   "source": [
    "# normalizing the text and creating an average doc2vec\n",
    "df = pd.read_csv(\"../data/train.csv\")\n",
    "df['text'] = text_normalization(df.text)\n",
    "df['text'] = df.text.apply(avg_doc2vec)\n",
    "# creating the data and splitting it\n",
    "X, y = create_data(df, 100)"
   ]
  },
  {
   "cell_type": "code",
   "execution_count": 187,
   "metadata": {
    "ExecuteTime": {
     "end_time": "2020-01-04T00:04:00.778913Z",
     "start_time": "2020-01-04T00:03:59.285054Z"
    }
   },
   "outputs": [],
   "source": [
    "test = pd.read_csv(\"../data/test.csv\")\n",
    "test['text'] = text_normalization(test.text)\n",
    "test['text'] = test.text.apply(avg_doc2vec)\n",
    "X_test = create_sub(test, 100)"
   ]
  },
  {
   "cell_type": "code",
   "execution_count": 184,
   "metadata": {
    "ExecuteTime": {
     "end_time": "2020-01-03T23:42:18.762021Z",
     "start_time": "2020-01-03T23:42:18.753931Z"
    }
   },
   "outputs": [],
   "source": [
    "svc = SVC(max_iter=3000, gamma='scale')\n",
    "params_grid = {'C': np.logspace(-4, 5, 8),\n",
    "               'kernel': ['linear', 'rbf']}\n",
    "\n",
    "grid = GridSearchCV(estimator=svc, scoring='f1',\n",
    "                    n_jobs=4, param_grid=params_grid,\n",
    "                    cv=5)"
   ]
  },
  {
   "cell_type": "code",
   "execution_count": 185,
   "metadata": {
    "ExecuteTime": {
     "end_time": "2020-01-03T23:45:54.752071Z",
     "start_time": "2020-01-03T23:42:21.273998Z"
    }
   },
   "outputs": [
    {
     "name": "stderr",
     "output_type": "stream",
     "text": [
      "/Users/dillonquan/opt/anaconda3/lib/python3.7/site-packages/sklearn/svm/base.py:241: ConvergenceWarning: Solver terminated early (max_iter=3000).  Consider pre-processing your data with StandardScaler or MinMaxScaler.\n",
      "  % self.max_iter, ConvergenceWarning)\n"
     ]
    },
    {
     "data": {
      "text/plain": [
       "{'C': 0.7196856730011528, 'kernel': 'rbf'}"
      ]
     },
     "execution_count": 185,
     "metadata": {},
     "output_type": "execute_result"
    }
   ],
   "source": [
    "grid.fit(X, y)\n",
    "grid.best_params_"
   ]
  },
  {
   "cell_type": "code",
   "execution_count": 180,
   "metadata": {
    "ExecuteTime": {
     "end_time": "2020-01-03T23:25:06.622536Z",
     "start_time": "2020-01-03T23:25:06.613299Z"
    }
   },
   "outputs": [
    {
     "data": {
      "text/plain": [
       "0.7369265896389726"
      ]
     },
     "execution_count": 180,
     "metadata": {},
     "output_type": "execute_result"
    }
   ],
   "source": [
    "grid.best_score_"
   ]
  },
  {
   "cell_type": "code",
   "execution_count": 186,
   "metadata": {
    "ExecuteTime": {
     "end_time": "2020-01-04T00:03:55.510002Z",
     "start_time": "2020-01-04T00:03:49.885903Z"
    },
    "scrolled": true
   },
   "outputs": [
    {
     "data": {
      "text/plain": [
       "SVC(C=0.7196856730011528, cache_size=200, class_weight=None, coef0=0.0,\n",
       "    decision_function_shape='ovr', degree=3, gamma='scale', kernel='rbf',\n",
       "    max_iter=4000, probability=False, random_state=None, shrinking=True,\n",
       "    tol=0.001, verbose=False)"
      ]
     },
     "execution_count": 186,
     "metadata": {},
     "output_type": "execute_result"
    }
   ],
   "source": [
    "svc = SVC(max_iter=4000, gamma='scale', C=0.7196856730011528, kernel='rbf')\n",
    "svc.fit(X, y)"
   ]
  },
  {
   "cell_type": "code",
   "execution_count": 188,
   "metadata": {
    "ExecuteTime": {
     "end_time": "2020-01-04T00:04:05.627690Z",
     "start_time": "2020-01-04T00:04:03.963821Z"
    },
    "scrolled": false
   },
   "outputs": [
    {
     "data": {
      "text/html": [
       "<div>\n",
       "<style scoped>\n",
       "    .dataframe tbody tr th:only-of-type {\n",
       "        vertical-align: middle;\n",
       "    }\n",
       "\n",
       "    .dataframe tbody tr th {\n",
       "        vertical-align: top;\n",
       "    }\n",
       "\n",
       "    .dataframe thead th {\n",
       "        text-align: right;\n",
       "    }\n",
       "</style>\n",
       "<table border=\"1\" class=\"dataframe\">\n",
       "  <thead>\n",
       "    <tr style=\"text-align: right;\">\n",
       "      <th></th>\n",
       "      <th>id</th>\n",
       "      <th>target</th>\n",
       "    </tr>\n",
       "  </thead>\n",
       "  <tbody>\n",
       "    <tr>\n",
       "      <td>0</td>\n",
       "      <td>0</td>\n",
       "      <td>1</td>\n",
       "    </tr>\n",
       "    <tr>\n",
       "      <td>1</td>\n",
       "      <td>2</td>\n",
       "      <td>1</td>\n",
       "    </tr>\n",
       "    <tr>\n",
       "      <td>2</td>\n",
       "      <td>3</td>\n",
       "      <td>1</td>\n",
       "    </tr>\n",
       "    <tr>\n",
       "      <td>3</td>\n",
       "      <td>9</td>\n",
       "      <td>1</td>\n",
       "    </tr>\n",
       "    <tr>\n",
       "      <td>4</td>\n",
       "      <td>11</td>\n",
       "      <td>1</td>\n",
       "    </tr>\n",
       "    <tr>\n",
       "      <td>...</td>\n",
       "      <td>...</td>\n",
       "      <td>...</td>\n",
       "    </tr>\n",
       "    <tr>\n",
       "      <td>3258</td>\n",
       "      <td>10861</td>\n",
       "      <td>1</td>\n",
       "    </tr>\n",
       "    <tr>\n",
       "      <td>3259</td>\n",
       "      <td>10865</td>\n",
       "      <td>1</td>\n",
       "    </tr>\n",
       "    <tr>\n",
       "      <td>3260</td>\n",
       "      <td>10868</td>\n",
       "      <td>1</td>\n",
       "    </tr>\n",
       "    <tr>\n",
       "      <td>3261</td>\n",
       "      <td>10874</td>\n",
       "      <td>1</td>\n",
       "    </tr>\n",
       "    <tr>\n",
       "      <td>3262</td>\n",
       "      <td>10875</td>\n",
       "      <td>1</td>\n",
       "    </tr>\n",
       "  </tbody>\n",
       "</table>\n",
       "<p>3263 rows × 2 columns</p>\n",
       "</div>"
      ],
      "text/plain": [
       "         id  target\n",
       "0         0       1\n",
       "1         2       1\n",
       "2         3       1\n",
       "3         9       1\n",
       "4        11       1\n",
       "...     ...     ...\n",
       "3258  10861       1\n",
       "3259  10865       1\n",
       "3260  10868       1\n",
       "3261  10874       1\n",
       "3262  10875       1\n",
       "\n",
       "[3263 rows x 2 columns]"
      ]
     },
     "execution_count": 188,
     "metadata": {},
     "output_type": "execute_result"
    }
   ],
   "source": [
    "final = pd.DataFrame({'id': test.id.values, 'target': svc.predict(X_test)})\n",
    "final['target'] = final.target.astype('int64')\n",
    "final"
   ]
  },
  {
   "cell_type": "code",
   "execution_count": 191,
   "metadata": {
    "ExecuteTime": {
     "end_time": "2020-01-04T00:04:55.058244Z",
     "start_time": "2020-01-04T00:04:55.048708Z"
    }
   },
   "outputs": [],
   "source": [
    "ground = pd.read_csv('../submissions/gt.csv')"
   ]
  },
  {
   "cell_type": "code",
   "execution_count": 194,
   "metadata": {
    "ExecuteTime": {
     "end_time": "2020-01-04T00:05:22.660646Z",
     "start_time": "2020-01-04T00:05:22.650517Z"
    }
   },
   "outputs": [
    {
     "data": {
      "text/plain": [
       "0.8020226785167024"
      ]
     },
     "execution_count": 194,
     "metadata": {},
     "output_type": "execute_result"
    }
   ],
   "source": [
    "final[final['target'] == ground['target']].shape[0]/final.shape[0]"
   ]
  },
  {
   "cell_type": "code",
   "execution_count": 195,
   "metadata": {
    "ExecuteTime": {
     "end_time": "2020-01-04T00:05:44.851794Z",
     "start_time": "2020-01-04T00:05:44.824159Z"
    }
   },
   "outputs": [],
   "source": [
    "final.to_csv('../DAM_sub_svc_tuned.csv', index=False)"
   ]
  },
  {
   "cell_type": "code",
   "execution_count": 196,
   "metadata": {
    "ExecuteTime": {
     "end_time": "2020-01-04T00:06:40.672064Z",
     "start_time": "2020-01-04T00:06:40.665543Z"
    }
   },
   "outputs": [
    {
     "data": {
      "text/plain": [
       "(3263, 2)"
      ]
     },
     "execution_count": 196,
     "metadata": {},
     "output_type": "execute_result"
    }
   ],
   "source": [
    "final.shape"
   ]
  },
  {
   "cell_type": "code",
   "execution_count": 197,
   "metadata": {
    "ExecuteTime": {
     "end_time": "2020-01-04T00:06:44.703824Z",
     "start_time": "2020-01-04T00:06:44.694668Z"
    }
   },
   "outputs": [
    {
     "data": {
      "text/plain": [
       "(3263, 2)"
      ]
     },
     "execution_count": 197,
     "metadata": {},
     "output_type": "execute_result"
    }
   ],
   "source": [
    "ground.shape"
   ]
  },
  {
   "cell_type": "markdown",
   "metadata": {},
   "source": [
    "### Logistic Regression Tuning"
   ]
  },
  {
   "cell_type": "code",
   "execution_count": 173,
   "metadata": {
    "ExecuteTime": {
     "end_time": "2020-01-03T23:14:30.335562Z",
     "start_time": "2020-01-03T23:14:30.327344Z"
    }
   },
   "outputs": [],
   "source": [
    "log = LogisticRegression(solver='saga', max_iter=200, penalty='elasticnet')\n",
    "params_grid = {'C': np.logspace(-5, 6, 8),\n",
    "               'l1_ratio': np.linspace(0, 1, 10)}\n",
    "\n",
    "log_grid = GridSearchCV(estimator=log, scoring='f1',\n",
    "                    param_grid=params_grid, cv=5,\n",
    "                    n_jobs=4)"
   ]
  },
  {
   "cell_type": "code",
   "execution_count": 174,
   "metadata": {
    "ExecuteTime": {
     "end_time": "2020-01-03T23:16:11.760184Z",
     "start_time": "2020-01-03T23:14:32.710874Z"
    }
   },
   "outputs": [
    {
     "data": {
      "text/plain": [
       "{'C': 0.5179474679231213, 'l1_ratio': 0.3333333333333333}"
      ]
     },
     "execution_count": 174,
     "metadata": {},
     "output_type": "execute_result"
    }
   ],
   "source": [
    "log_grid.fit(X, y)\n",
    "log_grid.best_params_"
   ]
  },
  {
   "cell_type": "code",
   "execution_count": 175,
   "metadata": {
    "ExecuteTime": {
     "end_time": "2020-01-03T23:16:28.397119Z",
     "start_time": "2020-01-03T23:16:28.082624Z"
    }
   },
   "outputs": [
    {
     "data": {
      "text/plain": [
       "LogisticRegression(C=0.5179474679231213, class_weight=None, dual=False,\n",
       "                   fit_intercept=True, intercept_scaling=1,\n",
       "                   l1_ratio=0.3333333333333333, max_iter=200,\n",
       "                   multi_class='warn', n_jobs=None, penalty='elasticnet',\n",
       "                   random_state=None, solver='saga', tol=0.0001, verbose=0,\n",
       "                   warm_start=False)"
      ]
     },
     "execution_count": 175,
     "metadata": {},
     "output_type": "execute_result"
    }
   ],
   "source": [
    "log = LogisticRegression(solver='saga', max_iter=200,\n",
    "                         C=0.5179474679231213, penalty='elasticnet',\n",
    "                         l1_ratio=0.3333333333333333)\n",
    "log.fit(X, y)"
   ]
  },
  {
   "cell_type": "code",
   "execution_count": 176,
   "metadata": {
    "ExecuteTime": {
     "end_time": "2020-01-03T23:16:32.233003Z",
     "start_time": "2020-01-03T23:16:32.205291Z"
    }
   },
   "outputs": [
    {
     "data": {
      "text/html": [
       "<div>\n",
       "<style scoped>\n",
       "    .dataframe tbody tr th:only-of-type {\n",
       "        vertical-align: middle;\n",
       "    }\n",
       "\n",
       "    .dataframe tbody tr th {\n",
       "        vertical-align: top;\n",
       "    }\n",
       "\n",
       "    .dataframe thead th {\n",
       "        text-align: right;\n",
       "    }\n",
       "</style>\n",
       "<table border=\"1\" class=\"dataframe\">\n",
       "  <thead>\n",
       "    <tr style=\"text-align: right;\">\n",
       "      <th></th>\n",
       "      <th>id</th>\n",
       "      <th>target</th>\n",
       "    </tr>\n",
       "  </thead>\n",
       "  <tbody>\n",
       "    <tr>\n",
       "      <td>0</td>\n",
       "      <td>0</td>\n",
       "      <td>1</td>\n",
       "    </tr>\n",
       "    <tr>\n",
       "      <td>1</td>\n",
       "      <td>2</td>\n",
       "      <td>1</td>\n",
       "    </tr>\n",
       "    <tr>\n",
       "      <td>2</td>\n",
       "      <td>3</td>\n",
       "      <td>1</td>\n",
       "    </tr>\n",
       "    <tr>\n",
       "      <td>3</td>\n",
       "      <td>9</td>\n",
       "      <td>1</td>\n",
       "    </tr>\n",
       "    <tr>\n",
       "      <td>4</td>\n",
       "      <td>11</td>\n",
       "      <td>1</td>\n",
       "    </tr>\n",
       "    <tr>\n",
       "      <td>...</td>\n",
       "      <td>...</td>\n",
       "      <td>...</td>\n",
       "    </tr>\n",
       "    <tr>\n",
       "      <td>3258</td>\n",
       "      <td>10861</td>\n",
       "      <td>1</td>\n",
       "    </tr>\n",
       "    <tr>\n",
       "      <td>3259</td>\n",
       "      <td>10865</td>\n",
       "      <td>1</td>\n",
       "    </tr>\n",
       "    <tr>\n",
       "      <td>3260</td>\n",
       "      <td>10868</td>\n",
       "      <td>1</td>\n",
       "    </tr>\n",
       "    <tr>\n",
       "      <td>3261</td>\n",
       "      <td>10874</td>\n",
       "      <td>1</td>\n",
       "    </tr>\n",
       "    <tr>\n",
       "      <td>3262</td>\n",
       "      <td>10875</td>\n",
       "      <td>1</td>\n",
       "    </tr>\n",
       "  </tbody>\n",
       "</table>\n",
       "<p>3263 rows × 2 columns</p>\n",
       "</div>"
      ],
      "text/plain": [
       "         id  target\n",
       "0         0       1\n",
       "1         2       1\n",
       "2         3       1\n",
       "3         9       1\n",
       "4        11       1\n",
       "...     ...     ...\n",
       "3258  10861       1\n",
       "3259  10865       1\n",
       "3260  10868       1\n",
       "3261  10874       1\n",
       "3262  10875       1\n",
       "\n",
       "[3263 rows x 2 columns]"
      ]
     },
     "execution_count": 176,
     "metadata": {},
     "output_type": "execute_result"
    }
   ],
   "source": [
    "final = pd.DataFrame({'id': test.id.values, 'target': log.predict(X_test)})\n",
    "final['target'] = final.target.astype('int64')\n",
    "final"
   ]
  },
  {
   "cell_type": "code",
   "execution_count": 177,
   "metadata": {
    "ExecuteTime": {
     "end_time": "2020-01-03T23:16:35.307710Z",
     "start_time": "2020-01-03T23:16:35.297823Z"
    }
   },
   "outputs": [
    {
     "data": {
      "text/plain": [
       "0.7836346920012258"
      ]
     },
     "execution_count": 177,
     "metadata": {},
     "output_type": "execute_result"
    }
   ],
   "source": [
    "final[final['target'] == ground['target']].shape[0]/final.shape[0]"
   ]
  }
 ],
 "metadata": {
  "kernelspec": {
   "display_name": "Python 3",
   "language": "python",
   "name": "python3"
  },
  "language_info": {
   "codemirror_mode": {
    "name": "ipython",
    "version": 3
   },
   "file_extension": ".py",
   "mimetype": "text/x-python",
   "name": "python",
   "nbconvert_exporter": "python",
   "pygments_lexer": "ipython3",
   "version": "3.7.4"
  }
 },
 "nbformat": 4,
 "nbformat_minor": 2
}
