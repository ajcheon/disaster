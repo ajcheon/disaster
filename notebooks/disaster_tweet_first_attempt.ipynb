{
 "cells": [
  {
   "cell_type": "code",
   "execution_count": 1,
   "metadata": {
    "ExecuteTime": {
     "end_time": "2020-01-02T22:56:31.248801Z",
     "start_time": "2020-01-02T22:56:23.569181Z"
    }
   },
   "outputs": [
    {
     "ename": "ImportError",
     "evalue": "cannot import name 'roc_score' from 'sklearn.metrics' (/Users/cheon/anaconda3/lib/python3.7/site-packages/sklearn/metrics/__init__.py)",
     "output_type": "error",
     "traceback": [
      "\u001b[0;31m---------------------------------------------------------------------------\u001b[0m",
      "\u001b[0;31mImportError\u001b[0m                               Traceback (most recent call last)",
      "\u001b[0;32m<ipython-input-1-2ed68699c33a>\u001b[0m in \u001b[0;36m<module>\u001b[0;34m\u001b[0m\n\u001b[1;32m      7\u001b[0m \u001b[0;32mimport\u001b[0m \u001b[0mpandas\u001b[0m \u001b[0;32mas\u001b[0m \u001b[0mpd\u001b[0m\u001b[0;34m\u001b[0m\u001b[0;34m\u001b[0m\u001b[0m\n\u001b[1;32m      8\u001b[0m \u001b[0;32mfrom\u001b[0m \u001b[0msklearn\u001b[0m\u001b[0;34m.\u001b[0m\u001b[0mlinear_model\u001b[0m \u001b[0;32mimport\u001b[0m \u001b[0mLogisticRegression\u001b[0m\u001b[0;34m\u001b[0m\u001b[0;34m\u001b[0m\u001b[0m\n\u001b[0;32m----> 9\u001b[0;31m \u001b[0;32mfrom\u001b[0m \u001b[0msklearn\u001b[0m\u001b[0;34m.\u001b[0m\u001b[0mmetrics\u001b[0m \u001b[0;32mimport\u001b[0m \u001b[0mconfusion_matrix\u001b[0m\u001b[0;34m,\u001b[0m \u001b[0mclassification_report\u001b[0m\u001b[0;34m,\u001b[0m \u001b[0maccuracy_score\u001b[0m\u001b[0;34m,\u001b[0m \u001b[0mf1_score\u001b[0m\u001b[0;34m,\u001b[0m \u001b[0mroc_score\u001b[0m\u001b[0;34m\u001b[0m\u001b[0;34m\u001b[0m\u001b[0m\n\u001b[0m\u001b[1;32m     10\u001b[0m \u001b[0;32mfrom\u001b[0m \u001b[0msklearn\u001b[0m\u001b[0;34m.\u001b[0m\u001b[0mmodel_selection\u001b[0m \u001b[0;32mimport\u001b[0m \u001b[0mtrain_test_split\u001b[0m\u001b[0;34m\u001b[0m\u001b[0;34m\u001b[0m\u001b[0m\n\u001b[1;32m     11\u001b[0m \u001b[0;32mfrom\u001b[0m \u001b[0msklearn\u001b[0m\u001b[0;34m.\u001b[0m\u001b[0mnaive_bayes\u001b[0m \u001b[0;32mimport\u001b[0m \u001b[0mGaussianNB\u001b[0m\u001b[0;34m\u001b[0m\u001b[0;34m\u001b[0m\u001b[0m\n",
      "\u001b[0;31mImportError\u001b[0m: cannot import name 'roc_score' from 'sklearn.metrics' (/Users/cheon/anaconda3/lib/python3.7/site-packages/sklearn/metrics/__init__.py)"
     ]
    }
   ],
   "source": [
    "import matplotlib.pyplot as plt\n",
    "import nltk\n",
    "# download this if havent already\n",
    "# nltk.download('stopwords')\n",
    "from nltk.corpus import stopwords\n",
    "import numpy as np\n",
    "import pandas as pd\n",
    "from sklearn.linear_model import LogisticRegression\n",
    "from sklearn.metrics import confusion_matrix, classification_report, accuracy_score, f1_score, roc_score\n",
    "from sklearn.model_selection import train_test_split\n",
    "from sklearn.naive_bayes import GaussianNB"
   ]
  },
  {
   "cell_type": "code",
   "execution_count": 2,
   "metadata": {
    "ExecuteTime": {
     "end_time": "2020-01-02T22:56:31.259880Z",
     "start_time": "2020-01-02T22:56:31.251925Z"
    }
   },
   "outputs": [],
   "source": [
    "pd.options.display.max_colwidth = 280"
   ]
  },
  {
   "cell_type": "code",
   "execution_count": 3,
   "metadata": {
    "ExecuteTime": {
     "end_time": "2020-01-02T22:56:31.376584Z",
     "start_time": "2020-01-02T22:56:31.268024Z"
    }
   },
   "outputs": [
    {
     "data": {
      "text/html": [
       "<div>\n",
       "<style scoped>\n",
       "    .dataframe tbody tr th:only-of-type {\n",
       "        vertical-align: middle;\n",
       "    }\n",
       "\n",
       "    .dataframe tbody tr th {\n",
       "        vertical-align: top;\n",
       "    }\n",
       "\n",
       "    .dataframe thead th {\n",
       "        text-align: right;\n",
       "    }\n",
       "</style>\n",
       "<table border=\"1\" class=\"dataframe\">\n",
       "  <thead>\n",
       "    <tr style=\"text-align: right;\">\n",
       "      <th></th>\n",
       "      <th>id</th>\n",
       "      <th>keyword</th>\n",
       "      <th>location</th>\n",
       "      <th>text</th>\n",
       "      <th>target</th>\n",
       "    </tr>\n",
       "  </thead>\n",
       "  <tbody>\n",
       "    <tr>\n",
       "      <td>0</td>\n",
       "      <td>1</td>\n",
       "      <td>NaN</td>\n",
       "      <td>NaN</td>\n",
       "      <td>Our Deeds are the Reason of this #earthquake May ALLAH Forgive us all</td>\n",
       "      <td>1</td>\n",
       "    </tr>\n",
       "    <tr>\n",
       "      <td>1</td>\n",
       "      <td>4</td>\n",
       "      <td>NaN</td>\n",
       "      <td>NaN</td>\n",
       "      <td>Forest fire near La Ronge Sask. Canada</td>\n",
       "      <td>1</td>\n",
       "    </tr>\n",
       "    <tr>\n",
       "      <td>2</td>\n",
       "      <td>5</td>\n",
       "      <td>NaN</td>\n",
       "      <td>NaN</td>\n",
       "      <td>All residents asked to 'shelter in place' are being notified by officers. No other evacuation or shelter in place orders are expected</td>\n",
       "      <td>1</td>\n",
       "    </tr>\n",
       "    <tr>\n",
       "      <td>3</td>\n",
       "      <td>6</td>\n",
       "      <td>NaN</td>\n",
       "      <td>NaN</td>\n",
       "      <td>13,000 people receive #wildfires evacuation orders in California</td>\n",
       "      <td>1</td>\n",
       "    </tr>\n",
       "    <tr>\n",
       "      <td>4</td>\n",
       "      <td>7</td>\n",
       "      <td>NaN</td>\n",
       "      <td>NaN</td>\n",
       "      <td>Just got sent this photo from Ruby #Alaska as smoke from #wildfires pours into a school</td>\n",
       "      <td>1</td>\n",
       "    </tr>\n",
       "  </tbody>\n",
       "</table>\n",
       "</div>"
      ],
      "text/plain": [
       "   id keyword location  \\\n",
       "0   1     NaN      NaN   \n",
       "1   4     NaN      NaN   \n",
       "2   5     NaN      NaN   \n",
       "3   6     NaN      NaN   \n",
       "4   7     NaN      NaN   \n",
       "\n",
       "                                                                                                                                    text  \\\n",
       "0                                                                  Our Deeds are the Reason of this #earthquake May ALLAH Forgive us all   \n",
       "1                                                                                                 Forest fire near La Ronge Sask. Canada   \n",
       "2  All residents asked to 'shelter in place' are being notified by officers. No other evacuation or shelter in place orders are expected   \n",
       "3                                                                      13,000 people receive #wildfires evacuation orders in California    \n",
       "4                                               Just got sent this photo from Ruby #Alaska as smoke from #wildfires pours into a school    \n",
       "\n",
       "   target  \n",
       "0       1  \n",
       "1       1  \n",
       "2       1  \n",
       "3       1  \n",
       "4       1  "
      ]
     },
     "execution_count": 3,
     "metadata": {},
     "output_type": "execute_result"
    }
   ],
   "source": [
    "df = pd.read_csv(\"data/train.csv\")\n",
    "test = pd.read_csv(\"data/test.csv\")\n",
    "df.head()"
   ]
  },
  {
   "cell_type": "code",
   "execution_count": 4,
   "metadata": {
    "ExecuteTime": {
     "end_time": "2020-01-02T22:56:31.411511Z",
     "start_time": "2020-01-02T22:56:31.382499Z"
    },
    "scrolled": true
   },
   "outputs": [
    {
     "name": "stdout",
     "output_type": "stream",
     "text": [
      "<class 'pandas.core.frame.DataFrame'>\n",
      "RangeIndex: 7613 entries, 0 to 7612\n",
      "Data columns (total 5 columns):\n",
      "id          7613 non-null int64\n",
      "keyword     7552 non-null object\n",
      "location    5080 non-null object\n",
      "text        7613 non-null object\n",
      "target      7613 non-null int64\n",
      "dtypes: int64(2), object(3)\n",
      "memory usage: 297.5+ KB\n"
     ]
    }
   ],
   "source": [
    "df.info()"
   ]
  },
  {
   "cell_type": "code",
   "execution_count": 5,
   "metadata": {
    "ExecuteTime": {
     "end_time": "2020-01-02T22:56:31.428641Z",
     "start_time": "2020-01-02T22:56:31.415448Z"
    }
   },
   "outputs": [
    {
     "data": {
      "text/plain": [
       "0.4296597924602653"
      ]
     },
     "execution_count": 5,
     "metadata": {},
     "output_type": "execute_result"
    }
   ],
   "source": [
    "# checking the class distribution\n",
    "df.target.sum()/df.shape[0]"
   ]
  },
  {
   "cell_type": "markdown",
   "metadata": {},
   "source": [
    "### keywords"
   ]
  },
  {
   "cell_type": "code",
   "execution_count": 6,
   "metadata": {
    "ExecuteTime": {
     "end_time": "2020-01-02T22:56:39.966551Z",
     "start_time": "2020-01-02T22:56:39.904693Z"
    }
   },
   "outputs": [],
   "source": [
    "df['keyword'] = df.keyword.str.replace('%20', ' ')\n",
    "# must call on the series outside of where instead of the whole df\n",
    "df['keyword'] = df.keyword.where(df.keyword.notna(), None)"
   ]
  },
  {
   "cell_type": "markdown",
   "metadata": {},
   "source": [
    "### locations"
   ]
  },
  {
   "cell_type": "code",
   "execution_count": 7,
   "metadata": {
    "ExecuteTime": {
     "end_time": "2020-01-02T22:56:41.056405Z",
     "start_time": "2020-01-02T22:56:41.021061Z"
    }
   },
   "outputs": [],
   "source": [
    "df['location'] = df.location.where(df.location.notna(), None)\n",
    "df['location'] = df.location.str.lower()\n",
    "# this might not be as important\n",
    "df['location'] = df.location.str.replace('[^a-zA-Z]', '')"
   ]
  },
  {
   "cell_type": "markdown",
   "metadata": {},
   "source": [
    "### text"
   ]
  },
  {
   "cell_type": "code",
   "execution_count": 8,
   "metadata": {
    "ExecuteTime": {
     "end_time": "2020-01-02T22:56:59.415482Z",
     "start_time": "2020-01-02T22:56:59.407507Z"
    }
   },
   "outputs": [],
   "source": [
    "def text_normalization(series):\n",
    "    # normalization of the text and replacing any hastags and nonalphanumeric chars\n",
    "    temp = series.str.lower()\n",
    "    temp = temp.str.replace('[^a-zA-Z0-9, ]', '')\n",
    "    temp = temp.str.split()\n",
    "    # removing the stopwords in the text and turning the entry to a list of words\n",
    "    stop = stopwords.words('english')\n",
    "    temp = temp.apply(lambda words: [word for word in words if word not in stop])\n",
    "    return temp"
   ]
  },
  {
   "cell_type": "markdown",
   "metadata": {},
   "source": [
    "### glove word embedding"
   ]
  },
  {
   "cell_type": "code",
   "execution_count": 9,
   "metadata": {
    "ExecuteTime": {
     "end_time": "2020-01-02T22:57:04.318181Z",
     "start_time": "2020-01-02T22:57:04.311382Z"
    }
   },
   "outputs": [],
   "source": [
    "def load_glove(filename):\n",
    "    \"\"\"\n",
    "    Read all lines from the indicated file and return a dictionary\n",
    "    mapping word:vector where vectors are of numpy `array` type.\n",
    "    GloVe file lines are of the form:\n",
    "\n",
    "    the 0.418 0.24968 -0.41242 0.1217 ...\n",
    "\n",
    "    So split each line on spaces into a list; the first element is the word\n",
    "    and the remaining elements represent factor components. The length of the vector\n",
    "    should not matter; read vectors of any length.\n",
    "    \"\"\"\n",
    "\n",
    "    #open and read in the files in lines\n",
    "    with open(filename, 'r') as f:\n",
    "        word_vecs = f.readlines()\n",
    "\n",
    "    #create the dictionary where the word is key and the value is the word vector\n",
    "    mapping = {}\n",
    "    for word_vec in word_vecs:\n",
    "        temp = word_vec.split()\n",
    "        mapping[temp[0]] = np.array(temp[1:], dtype = float)\n",
    "    return mapping"
   ]
  },
  {
   "cell_type": "code",
   "execution_count": 25,
   "metadata": {
    "ExecuteTime": {
     "end_time": "2020-01-02T23:07:13.181462Z",
     "start_time": "2020-01-02T23:06:43.546245Z"
    }
   },
   "outputs": [],
   "source": [
    "word_dict = load_glove('glove.twitter.27B/glove.twitter.27B.50d.txt')"
   ]
  },
  {
   "cell_type": "code",
   "execution_count": 11,
   "metadata": {
    "ExecuteTime": {
     "end_time": "2020-01-02T22:58:23.792424Z",
     "start_time": "2020-01-02T22:58:23.770945Z"
    }
   },
   "outputs": [],
   "source": [
    "def avg_doc2vec(text, gloves=word_dict):\n",
    "    \"\"\"\n",
    "    Return the average word vector for the tweet. Sum the word vectors\n",
    "    for each word and then divide by the number of words. Ignore words\n",
    "    not in gloves.\n",
    "    \"\"\"\n",
    "    \n",
    "    vec = np.zeros(len(text))\n",
    "    # flag for if its the first word\n",
    "    flag = 1\n",
    "    # iterate through the list of words to sum up the word vectors in the doc\n",
    "    for word in text:\n",
    "        if word in gloves.keys():\n",
    "            if flag == 1:\n",
    "                vec = gloves[word]\n",
    "                flag = 0\n",
    "            else:\n",
    "                vec = np.add(vec, gloves[word])\n",
    "\n",
    "    # return the average vector\n",
    "    return vec/len(text)"
   ]
  },
  {
   "cell_type": "code",
   "execution_count": 12,
   "metadata": {
    "ExecuteTime": {
     "end_time": "2020-01-02T22:58:23.818367Z",
     "start_time": "2020-01-02T22:58:23.799415Z"
    }
   },
   "outputs": [],
   "source": [
    "def min_max_doc2vec(text, gloves=word_dict):\n",
    "    \"\"\"\n",
    "    Return the min max concatenation of word vectors for the tweet.\n",
    "    Ignore words not in gloves.\n",
    "    \"\"\"\n",
    "    #vec = np.zeros(len(text*2))\n",
    "    min_vec = np.zeros(len(text))\n",
    "    max_vec = np.zeros(len(text))\n",
    "    # flag for if its the first word\n",
    "    flag = 1\n",
    "    \n",
    "    for word in text:\n",
    "        if word in gloves.keys():\n",
    "            if flag == 1:\n",
    "                min_vec = gloves[word]\n",
    "                max_vec = gloves[word]\n",
    "                flag = 0\n",
    "            else:\n",
    "                min_vec = np.minimum(min_vec, gloves[word])\n",
    "                max_vec = np.maximum(max_vec, gloves[word])\n",
    "                \n",
    "    # return the concatenation of the two vectors\n",
    "    return np.concatenate((min_vec, max_vec))"
   ]
  },
  {
   "cell_type": "code",
   "execution_count": 13,
   "metadata": {
    "ExecuteTime": {
     "end_time": "2020-01-02T22:58:26.363432Z",
     "start_time": "2020-01-02T22:58:26.355161Z"
    }
   },
   "outputs": [],
   "source": [
    "def create_data(dataframe, length):\n",
    "    # turning the series of word embedding vectors into a nd array\n",
    "    X = np.empty([dataframe.shape[0], length])\n",
    "    y = np.empty([dataframe.shape[0]])\n",
    "    for idx, row in dataframe.iterrows():\n",
    "        try:\n",
    "            X[idx, :] = row.text\n",
    "        except:\n",
    "            X[idx, :] = np.zeros(length)\n",
    "        y[idx] = row.target\n",
    "    return (X, y)"
   ]
  },
  {
   "cell_type": "markdown",
   "metadata": {},
   "source": [
    "### Average word vectors"
   ]
  },
  {
   "cell_type": "code",
   "execution_count": 96,
   "metadata": {
    "ExecuteTime": {
     "end_time": "2020-01-03T00:22:55.870864Z",
     "start_time": "2020-01-03T00:22:53.819776Z"
    }
   },
   "outputs": [],
   "source": [
    "# normalizing the text and creating an average doc2vec\n",
    "df = pd.read_csv(\"data/train.csv\")\n",
    "df['text'] = text_normalization(df.text)\n",
    "df['text'] = df.text.apply(avg_doc2vec)\n",
    "# creating the data and splitting it\n",
    "X, y = create_data(df, 50)\n",
    "X_train, X_test, y_train, y_test = train_test_split(X, y, random_state=42)"
   ]
  },
  {
   "cell_type": "code",
   "execution_count": 97,
   "metadata": {
    "ExecuteTime": {
     "end_time": "2020-01-03T00:23:07.619251Z",
     "start_time": "2020-01-03T00:23:07.600306Z"
    }
   },
   "outputs": [
    {
     "data": {
      "text/plain": [
       "GaussianNB(priors=None, var_smoothing=1e-09)"
      ]
     },
     "execution_count": 97,
     "metadata": {},
     "output_type": "execute_result"
    }
   ],
   "source": [
    "# model training with Gaussian Naive Bayes\n",
    "nb = GaussianNB()\n",
    "nb.fit(X_train, y_train)"
   ]
  },
  {
   "cell_type": "code",
   "execution_count": 24,
   "metadata": {
    "ExecuteTime": {
     "end_time": "2020-01-02T23:06:26.549603Z",
     "start_time": "2020-01-02T23:06:26.185220Z"
    }
   },
   "outputs": [
    {
     "name": "stderr",
     "output_type": "stream",
     "text": [
      "/Users/dillonquan/opt/anaconda3/lib/python3.7/site-packages/sklearn/naive_bayes.py:434: RuntimeWarning: divide by zero encountered in log\n",
      "  n_ij = - 0.5 * np.sum(np.log(2. * np.pi * self.sigma_[i, :]))\n",
      "/Users/dillonquan/opt/anaconda3/lib/python3.7/site-packages/sklearn/naive_bayes.py:436: RuntimeWarning: divide by zero encountered in true_divide\n",
      "  (self.sigma_[i, :]), 1)\n",
      "/Users/dillonquan/opt/anaconda3/lib/python3.7/site-packages/sklearn/naive_bayes.py:436: RuntimeWarning: invalid value encountered in true_divide\n",
      "  (self.sigma_[i, :]), 1)\n"
     ]
    },
    {
     "name": "stdout",
     "output_type": "stream",
     "text": [
      "Training Accuracy w/ Guassian NB: 0.5694517428621475\n",
      "Testing Accuracy w/ Guassian NB: 0.5730042016806722\n"
     ]
    },
    {
     "name": "stderr",
     "output_type": "stream",
     "text": [
      "/Users/dillonquan/opt/anaconda3/lib/python3.7/site-packages/sklearn/naive_bayes.py:434: RuntimeWarning: divide by zero encountered in log\n",
      "  n_ij = - 0.5 * np.sum(np.log(2. * np.pi * self.sigma_[i, :]))\n",
      "/Users/dillonquan/opt/anaconda3/lib/python3.7/site-packages/sklearn/naive_bayes.py:436: RuntimeWarning: divide by zero encountered in true_divide\n",
      "  (self.sigma_[i, :]), 1)\n",
      "/Users/dillonquan/opt/anaconda3/lib/python3.7/site-packages/sklearn/naive_bayes.py:436: RuntimeWarning: invalid value encountered in true_divide\n",
      "  (self.sigma_[i, :]), 1)\n"
     ]
    }
   ],
   "source": [
    "# evaluation metrics w/ 100d\n",
    "print(f\"Training Accuracy w/ Guassian NB: {accuracy_score(y_train, nb.predict(X_train))}\")\n",
    "print(f\"Testing Accuracy w/ Guassian NB: {accuracy_score(y_test, nb.predict(X_test))}\")"
   ]
  },
  {
   "cell_type": "code",
   "execution_count": 20,
   "metadata": {
    "ExecuteTime": {
     "end_time": "2020-01-02T23:04:03.758680Z",
     "start_time": "2020-01-02T23:04:02.960551Z"
    }
   },
   "outputs": [
    {
     "name": "stderr",
     "output_type": "stream",
     "text": [
      "/Users/dillonquan/opt/anaconda3/lib/python3.7/site-packages/sklearn/naive_bayes.py:434: RuntimeWarning: divide by zero encountered in log\n",
      "  n_ij = - 0.5 * np.sum(np.log(2. * np.pi * self.sigma_[i, :]))\n",
      "/Users/dillonquan/opt/anaconda3/lib/python3.7/site-packages/sklearn/naive_bayes.py:436: RuntimeWarning: divide by zero encountered in true_divide\n",
      "  (self.sigma_[i, :]), 1)\n",
      "/Users/dillonquan/opt/anaconda3/lib/python3.7/site-packages/sklearn/naive_bayes.py:436: RuntimeWarning: invalid value encountered in true_divide\n",
      "  (self.sigma_[i, :]), 1)\n"
     ]
    },
    {
     "name": "stdout",
     "output_type": "stream",
     "text": [
      "Training Accuracy w/ Guassian NB: 0.5694517428621475\n"
     ]
    },
    {
     "name": "stderr",
     "output_type": "stream",
     "text": [
      "/Users/dillonquan/opt/anaconda3/lib/python3.7/site-packages/sklearn/naive_bayes.py:434: RuntimeWarning: divide by zero encountered in log\n",
      "  n_ij = - 0.5 * np.sum(np.log(2. * np.pi * self.sigma_[i, :]))\n",
      "/Users/dillonquan/opt/anaconda3/lib/python3.7/site-packages/sklearn/naive_bayes.py:436: RuntimeWarning: divide by zero encountered in true_divide\n",
      "  (self.sigma_[i, :]), 1)\n",
      "/Users/dillonquan/opt/anaconda3/lib/python3.7/site-packages/sklearn/naive_bayes.py:436: RuntimeWarning: invalid value encountered in true_divide\n",
      "  (self.sigma_[i, :]), 1)\n"
     ]
    },
    {
     "name": "stdout",
     "output_type": "stream",
     "text": [
      "Testing Accuracy w/ Guassian NB: 0.5730042016806722\n"
     ]
    }
   ],
   "source": [
    "# evaluation metrics w/ 200d\n",
    "print(f\"Training Accuracy w/ Guassian NB: {accuracy_score(y_train, nb.predict(X_train))}\")\n",
    "print(f\"Testing Accuracy w/ Guassian NB: {accuracy_score(y_test, nb.predict(X_test))}\")"
   ]
  },
  {
   "cell_type": "code",
   "execution_count": 98,
   "metadata": {
    "ExecuteTime": {
     "end_time": "2020-01-03T00:23:14.381630Z",
     "start_time": "2020-01-03T00:23:14.354692Z"
    }
   },
   "outputs": [
    {
     "name": "stdout",
     "output_type": "stream",
     "text": [
      "Training Accuracy w/ Guassian NB: 0.766333858819408\n",
      "Testing Accuracy w/ Guassian NB: 0.773109243697479\n"
     ]
    }
   ],
   "source": [
    "# evaluation metrics w/ 50d\n",
    "print(f\"Training Accuracy w/ Guassian NB: {accuracy_score(y_train, nb.predict(X_train))}\")\n",
    "print(f\"Testing Accuracy w/ Guassian NB: {accuracy_score(y_test, nb.predict(X_test))}\")"
   ]
  },
  {
   "cell_type": "code",
   "execution_count": 99,
   "metadata": {
    "ExecuteTime": {
     "end_time": "2020-01-03T00:23:16.111190Z",
     "start_time": "2020-01-03T00:23:16.081197Z"
    }
   },
   "outputs": [
    {
     "name": "stdout",
     "output_type": "stream",
     "text": [
      "Training F1-Score w/ Guassian NB: 0.7393513091051193\n",
      "Testing F1-Score w/ Guassian NB: 0.7485448195576252\n"
     ]
    }
   ],
   "source": [
    "# evaluation metrics w/ 50d\n",
    "print(f\"Training F1-Score w/ Guassian NB: {f1_score(y_train, nb.predict(X_train))}\")\n",
    "print(f\"Testing F1-Score w/ Guassian NB: {f1_score(y_test, nb.predict(X_test))}\")"
   ]
  },
  {
   "cell_type": "code",
   "execution_count": 100,
   "metadata": {
    "ExecuteTime": {
     "end_time": "2020-01-03T00:23:17.977008Z",
     "start_time": "2020-01-03T00:23:17.935174Z"
    }
   },
   "outputs": [
    {
     "name": "stdout",
     "output_type": "stream",
     "text": [
      "              precision    recall  f1-score   support\n",
      "\n",
      "         0.0       0.81      0.76      0.79      3251\n",
      "         1.0       0.71      0.77      0.74      2458\n",
      "\n",
      "    accuracy                           0.77      5709\n",
      "   macro avg       0.76      0.77      0.76      5709\n",
      "weighted avg       0.77      0.77      0.77      5709\n",
      "\n"
     ]
    }
   ],
   "source": [
    "print(classification_report(y_train, nb.predict(X_train)))"
   ]
  },
  {
   "cell_type": "code",
   "execution_count": 101,
   "metadata": {
    "ExecuteTime": {
     "end_time": "2020-01-03T00:23:22.192012Z",
     "start_time": "2020-01-03T00:23:22.175058Z"
    },
    "scrolled": false
   },
   "outputs": [],
   "source": [
    "nb_fpr, nb_tpr, thresholds = roc_curve(y_train, nb.predict_proba(X_train)[:,1])"
   ]
  },
  {
   "cell_type": "code",
   "execution_count": 102,
   "metadata": {
    "ExecuteTime": {
     "end_time": "2020-01-03T00:23:22.846065Z",
     "start_time": "2020-01-03T00:23:22.624301Z"
    }
   },
   "outputs": [
    {
     "data": {
      "image/png": "[encoded data removed]",
      "text/plain": [
       "<Figure size 432x288 with 1 Axes>"
      ]
     },
     "metadata": {
      "needs_background": "light"
     },
     "output_type": "display_data"
    }
   ],
   "source": [
    "plt.plot([0,1], [0,1])\n",
    "plt.plot(nb_fpr, nb_tpr)\n",
    "plt.title('Naive Bayes ROC Curve')\n",
    "plt.xlabel('False Positive Rate')\n",
    "plt.ylabel('True Positive Rate')\n",
    "plt.show()"
   ]
  },
  {
   "cell_type": "code",
   "execution_count": 72,
   "metadata": {
    "ExecuteTime": {
     "end_time": "2020-01-02T22:26:43.883196Z",
     "start_time": "2020-01-02T22:26:43.869098Z"
    }
   },
   "outputs": [
    {
     "name": "stdout",
     "output_type": "stream",
     "text": [
      "Training Accuracy w/ Guassian NB: 0.7412856892625679\n",
      "Testing Accuracy w/ Guassian NB: 0.7589285714285714\n"
     ]
    }
   ],
   "source": [
    "# evaluation metrics w/ 25d\n",
    "print(f\"Training Accuracy w/ Guassian NB: {accuracy_score(y_train, nb.predict(X_train))}\")\n",
    "print(f\"Testing Accuracy w/ Guassian NB: {accuracy_score(y_test, nb.predict(X_test))}\")"
   ]
  },
  {
   "cell_type": "code",
   "execution_count": 103,
   "metadata": {
    "ExecuteTime": {
     "end_time": "2020-01-03T00:23:31.750128Z",
     "start_time": "2020-01-03T00:23:31.648017Z"
    }
   },
   "outputs": [
    {
     "data": {
      "text/plain": [
       "LogisticRegression(C=1.0, class_weight=None, dual=False, fit_intercept=True,\n",
       "                   intercept_scaling=1, l1_ratio=None, max_iter=200,\n",
       "                   multi_class='warn', n_jobs=None, penalty='l2',\n",
       "                   random_state=None, solver='lbfgs', tol=0.0001, verbose=0,\n",
       "                   warm_start=False)"
      ]
     },
     "execution_count": 103,
     "metadata": {},
     "output_type": "execute_result"
    }
   ],
   "source": [
    "# trying a logistic regression\n",
    "log = LogisticRegression(solver='lbfgs', max_iter=200)\n",
    "log.fit(X_train, y_train)"
   ]
  },
  {
   "cell_type": "code",
   "execution_count": 104,
   "metadata": {
    "ExecuteTime": {
     "end_time": "2020-01-03T00:23:34.054762Z",
     "start_time": "2020-01-03T00:23:34.043712Z"
    }
   },
   "outputs": [
    {
     "name": "stdout",
     "output_type": "stream",
     "text": [
      "Training Accuracy w/ Logistic Regression: 0.792608162550359\n",
      "Testing Accuracy w/ Logistic Regression: 0.792016806722689\n"
     ]
    }
   ],
   "source": [
    "# evaluation metrics w/ 50d\n",
    "print(f\"Training Accuracy w/ Logistic Regression: {accuracy_score(y_train, log.predict(X_train))}\")\n",
    "print(f\"Testing Accuracy w/ Logistic Regression: {accuracy_score(y_test, log.predict(X_test))}\")"
   ]
  },
  {
   "cell_type": "code",
   "execution_count": 105,
   "metadata": {
    "ExecuteTime": {
     "end_time": "2020-01-03T00:23:41.117366Z",
     "start_time": "2020-01-03T00:23:41.091540Z"
    }
   },
   "outputs": [
    {
     "name": "stdout",
     "output_type": "stream",
     "text": [
      "Training F1-Score w/ Logistic Regression: 0.745595186935969\n",
      "Testing F1-Score w/ Logistic Regression: 0.7435233160621761\n"
     ]
    }
   ],
   "source": [
    "# evaluation metrics w/ 50d\n",
    "print(f\"Training F1-Score w/ Logistic Regression: {f1_score(y_train, log.predict(X_train))}\")\n",
    "print(f\"Testing F1-Score w/ Logistic Regression: {f1_score(y_test, log.predict(X_test))}\")"
   ]
  },
  {
   "cell_type": "code",
   "execution_count": 63,
   "metadata": {
    "ExecuteTime": {
     "end_time": "2020-01-02T23:55:39.493854Z",
     "start_time": "2020-01-02T23:55:39.483707Z"
    }
   },
   "outputs": [],
   "source": [
    "log_fpr, log_tpr, thresholds = roc_curve(y_train, log.predict_proba(X_train)[:,1])"
   ]
  },
  {
   "cell_type": "code",
   "execution_count": 64,
   "metadata": {
    "ExecuteTime": {
     "end_time": "2020-01-02T23:55:41.055687Z",
     "start_time": "2020-01-02T23:55:40.809145Z"
    }
   },
   "outputs": [
    {
     "data": {
      "image/png": "[encoded data removed]",
      "text/plain": [
       "<Figure size 432x288 with 1 Axes>"
      ]
     },
     "metadata": {
      "needs_background": "light"
     },
     "output_type": "display_data"
    }
   ],
   "source": [
    "plt.plot([0,1], [0,1])\n",
    "plt.plot(fpr, tpr)\n",
    "plt.title('Logistic Regression ROC Curve')\n",
    "plt.xlabel('False Positive Rate')\n",
    "plt.ylabel('True Positive Rate')\n",
    "plt.show()"
   ]
  },
  {
   "cell_type": "markdown",
   "metadata": {},
   "source": [
    "### Min Max word vectors"
   ]
  },
  {
   "cell_type": "code",
   "execution_count": 33,
   "metadata": {
    "ExecuteTime": {
     "end_time": "2020-01-02T23:08:54.315812Z",
     "start_time": "2020-01-02T23:08:53.698458Z"
    }
   },
   "outputs": [],
   "source": [
    "df = pd.read_csv(\"data/train.csv\")\n",
    "df['text'] = text_normalization(df.text)\n",
    "df['text'] = df.text.apply(min_max_doc2vec)\n",
    "df['text'] = df.text.apply(lambda x: x.reshape((1,-1)).squeeze())"
   ]
  },
  {
   "cell_type": "code",
   "execution_count": 34,
   "metadata": {
    "ExecuteTime": {
     "end_time": "2020-01-02T23:08:57.798567Z",
     "start_time": "2020-01-02T23:08:56.430396Z"
    },
    "scrolled": true
   },
   "outputs": [],
   "source": [
    "# creating the data and splitting it\n",
    "X, y = create_data(df, 100)\n",
    "X_train, X_test, y_train, y_test = train_test_split(X, y, random_state=42)"
   ]
  },
  {
   "cell_type": "code",
   "execution_count": 35,
   "metadata": {
    "ExecuteTime": {
     "end_time": "2020-01-02T23:08:58.578457Z",
     "start_time": "2020-01-02T23:08:58.551121Z"
    }
   },
   "outputs": [
    {
     "data": {
      "text/plain": [
       "GaussianNB(priors=None, var_smoothing=1e-09)"
      ]
     },
     "execution_count": 35,
     "metadata": {},
     "output_type": "execute_result"
    }
   ],
   "source": [
    "# model training with Gaussian Naive Bayes\n",
    "nb = GaussianNB()\n",
    "nb.fit(X_train, y_train)"
   ]
  },
  {
   "cell_type": "code",
   "execution_count": 36,
   "metadata": {
    "ExecuteTime": {
     "end_time": "2020-01-02T23:09:14.769176Z",
     "start_time": "2020-01-02T23:09:14.738373Z"
    }
   },
   "outputs": [
    {
     "name": "stdout",
     "output_type": "stream",
     "text": [
      "Training Accuracy w/ Guassian NB: 0.7286740234717113\n",
      "Testing Accuracy w/ Guassian NB: 0.7363445378151261\n"
     ]
    }
   ],
   "source": [
    "# evaluation metrics w/ 50d\n",
    "print(f\"Training Accuracy w/ Guassian NB: {accuracy_score(y_train, nb.predict(X_train))}\")\n",
    "print(f\"Testing Accuracy w/ Guassian NB: {accuracy_score(y_test, nb.predict(X_test))}\")"
   ]
  },
  {
   "cell_type": "code",
   "execution_count": 125,
   "metadata": {
    "ExecuteTime": {
     "end_time": "2020-01-02T22:54:51.465401Z",
     "start_time": "2020-01-02T22:54:51.432364Z"
    }
   },
   "outputs": [
    {
     "name": "stdout",
     "output_type": "stream",
     "text": [
      "Training Accuracy w/ Guassian NB: 0.720091084252934\n",
      "Testing Accuracy w/ Guassian NB: 0.7379201680672269\n"
     ]
    }
   ],
   "source": [
    "# evaluation metrics w/ 25d\n",
    "print(f\"Training Accuracy w/ Guassian NB: {accuracy_score(y_train, nb.predict(X_train))}\")\n",
    "print(f\"Testing Accuracy w/ Guassian NB: {accuracy_score(y_test, nb.predict(X_test))}\")"
   ]
  },
  {
   "cell_type": "markdown",
   "metadata": {},
   "source": [
    "### Out of sample"
   ]
  },
  {
   "cell_type": "code",
   "execution_count": 72,
   "metadata": {
    "ExecuteTime": {
     "end_time": "2020-01-03T00:08:39.801934Z",
     "start_time": "2020-01-03T00:08:39.790889Z"
    }
   },
   "outputs": [],
   "source": [
    "def create_sub(dataframe, length):\n",
    "    # turning the series of word embedding vectors into a nd array\n",
    "    X = np.empty([dataframe.shape[0], length])\n",
    "    y = np.empty([dataframe.shape[0]])\n",
    "    for idx, row in dataframe.iterrows():\n",
    "        try:\n",
    "            X[idx, :] = row.text\n",
    "        except:\n",
    "            X[idx, :] = np.zeros(length)\n",
    "    return X"
   ]
  },
  {
   "cell_type": "code",
   "execution_count": 106,
   "metadata": {
    "ExecuteTime": {
     "end_time": "2020-01-03T00:24:21.848552Z",
     "start_time": "2020-01-03T00:24:19.958637Z"
    }
   },
   "outputs": [],
   "source": [
    "# normalizing the text and creating an average doc2vec\n",
    "df = pd.read_csv(\"data/train.csv\")\n",
    "df['text'] = text_normalization(df.text)\n",
    "df['text'] = df.text.apply(avg_doc2vec)\n",
    "# creating the data and splitting it\n",
    "X, y = create_data(df, 50)"
   ]
  },
  {
   "cell_type": "code",
   "execution_count": 110,
   "metadata": {
    "ExecuteTime": {
     "end_time": "2020-01-03T00:24:40.770020Z",
     "start_time": "2020-01-03T00:24:40.072332Z"
    }
   },
   "outputs": [],
   "source": [
    "test = pd.read_csv(\"data/test.csv\")\n",
    "test['text'] = text_normalization(test.text)\n",
    "test['text'] = test.text.apply(avg_doc2vec)\n",
    "X_test = create_sub(test, 50)"
   ]
  },
  {
   "cell_type": "code",
   "execution_count": 107,
   "metadata": {
    "ExecuteTime": {
     "end_time": "2020-01-03T00:24:25.464736Z",
     "start_time": "2020-01-03T00:24:25.334937Z"
    }
   },
   "outputs": [
    {
     "data": {
      "text/plain": [
       "LogisticRegression(C=1.0, class_weight=None, dual=False, fit_intercept=True,\n",
       "                   intercept_scaling=1, l1_ratio=None, max_iter=200,\n",
       "                   multi_class='warn', n_jobs=None, penalty='l2',\n",
       "                   random_state=None, solver='lbfgs', tol=0.0001, verbose=0,\n",
       "                   warm_start=False)"
      ]
     },
     "execution_count": 107,
     "metadata": {},
     "output_type": "execute_result"
    }
   ],
   "source": [
    "# logistic regression with all of the data\n",
    "log = LogisticRegression(solver='lbfgs', max_iter=200)\n",
    "log.fit(X, y)"
   ]
  },
  {
   "cell_type": "code",
   "execution_count": 108,
   "metadata": {
    "ExecuteTime": {
     "end_time": "2020-01-03T00:24:28.229288Z",
     "start_time": "2020-01-03T00:24:28.220603Z"
    }
   },
   "outputs": [
    {
     "name": "stdout",
     "output_type": "stream",
     "text": [
      "Training Accuracy w/ Logistic Regression: 0.7936424536976225\n"
     ]
    }
   ],
   "source": [
    "# evaluation metrics w/ 50d\n",
    "print(f\"Training Accuracy w/ Logistic Regression: {accuracy_score(y, log.predict(X))}\")"
   ]
  },
  {
   "cell_type": "code",
   "execution_count": 109,
   "metadata": {
    "ExecuteTime": {
     "end_time": "2020-01-03T00:24:31.131413Z",
     "start_time": "2020-01-03T00:24:31.107322Z"
    }
   },
   "outputs": [
    {
     "name": "stdout",
     "output_type": "stream",
     "text": [
      "Training F1-Score w/ Logistic Regression: 0.7462445485382007\n"
     ]
    }
   ],
   "source": [
    "# evaluation metrics w/ 50d\n",
    "print(f\"Training F1-Score w/ Logistic Regression: {f1_score(y, log.predict(X))}\")"
   ]
  },
  {
   "cell_type": "code",
   "execution_count": 115,
   "metadata": {
    "ExecuteTime": {
     "end_time": "2020-01-03T00:25:32.091945Z",
     "start_time": "2020-01-03T00:25:32.085033Z"
    }
   },
   "outputs": [
    {
     "data": {
      "text/plain": [
       "(3263,)"
      ]
     },
     "execution_count": 115,
     "metadata": {},
     "output_type": "execute_result"
    }
   ],
   "source": [
    "test.id.values.shape"
   ]
  },
  {
   "cell_type": "code",
   "execution_count": 114,
   "metadata": {
    "ExecuteTime": {
     "end_time": "2020-01-03T00:25:28.991805Z",
     "start_time": "2020-01-03T00:25:28.983477Z"
    }
   },
   "outputs": [
    {
     "data": {
      "text/plain": [
       "(3263,)"
      ]
     },
     "execution_count": 114,
     "metadata": {},
     "output_type": "execute_result"
    }
   ],
   "source": [
    "log.predict(X_test).shape"
   ]
  },
  {
   "cell_type": "code",
   "execution_count": 117,
   "metadata": {
    "ExecuteTime": {
     "end_time": "2020-01-03T00:27:03.524118Z",
     "start_time": "2020-01-03T00:27:03.517685Z"
    },
    "scrolled": true
   },
   "outputs": [],
   "source": [
    "final = pd.DataFrame({'id': test.id.values, 'target': log.predict(X_test)})"
   ]
  },
  {
   "cell_type": "code",
   "execution_count": 122,
   "metadata": {
    "ExecuteTime": {
     "end_time": "2020-01-03T00:30:11.687935Z",
     "start_time": "2020-01-03T00:30:11.666921Z"
    }
   },
   "outputs": [],
   "source": [
    "final.to_csv('DAM_sub.csv', index=False)"
   ]
  },
  {
   "cell_type": "code",
   "execution_count": 123,
   "metadata": {
    "ExecuteTime": {
     "end_time": "2020-01-03T00:30:13.526585Z",
     "start_time": "2020-01-03T00:30:13.512608Z"
    }
   },
   "outputs": [
    {
     "data": {
      "text/html": [
       "<div>\n",
       "<style scoped>\n",
       "    .dataframe tbody tr th:only-of-type {\n",
       "        vertical-align: middle;\n",
       "    }\n",
       "\n",
       "    .dataframe tbody tr th {\n",
       "        vertical-align: top;\n",
       "    }\n",
       "\n",
       "    .dataframe thead th {\n",
       "        text-align: right;\n",
       "    }\n",
       "</style>\n",
       "<table border=\"1\" class=\"dataframe\">\n",
       "  <thead>\n",
       "    <tr style=\"text-align: right;\">\n",
       "      <th></th>\n",
       "      <th>id</th>\n",
       "      <th>target</th>\n",
       "    </tr>\n",
       "  </thead>\n",
       "  <tbody>\n",
       "    <tr>\n",
       "      <td>0</td>\n",
       "      <td>0</td>\n",
       "      <td>1.0</td>\n",
       "    </tr>\n",
       "    <tr>\n",
       "      <td>1</td>\n",
       "      <td>2</td>\n",
       "      <td>1.0</td>\n",
       "    </tr>\n",
       "    <tr>\n",
       "      <td>2</td>\n",
       "      <td>3</td>\n",
       "      <td>1.0</td>\n",
       "    </tr>\n",
       "    <tr>\n",
       "      <td>3</td>\n",
       "      <td>9</td>\n",
       "      <td>1.0</td>\n",
       "    </tr>\n",
       "    <tr>\n",
       "      <td>4</td>\n",
       "      <td>11</td>\n",
       "      <td>1.0</td>\n",
       "    </tr>\n",
       "    <tr>\n",
       "      <td>...</td>\n",
       "      <td>...</td>\n",
       "      <td>...</td>\n",
       "    </tr>\n",
       "    <tr>\n",
       "      <td>3258</td>\n",
       "      <td>10861</td>\n",
       "      <td>1.0</td>\n",
       "    </tr>\n",
       "    <tr>\n",
       "      <td>3259</td>\n",
       "      <td>10865</td>\n",
       "      <td>0.0</td>\n",
       "    </tr>\n",
       "    <tr>\n",
       "      <td>3260</td>\n",
       "      <td>10868</td>\n",
       "      <td>1.0</td>\n",
       "    </tr>\n",
       "    <tr>\n",
       "      <td>3261</td>\n",
       "      <td>10874</td>\n",
       "      <td>1.0</td>\n",
       "    </tr>\n",
       "    <tr>\n",
       "      <td>3262</td>\n",
       "      <td>10875</td>\n",
       "      <td>1.0</td>\n",
       "    </tr>\n",
       "  </tbody>\n",
       "</table>\n",
       "<p>3263 rows × 2 columns</p>\n",
       "</div>"
      ],
      "text/plain": [
       "         id  target\n",
       "0         0     1.0\n",
       "1         2     1.0\n",
       "2         3     1.0\n",
       "3         9     1.0\n",
       "4        11     1.0\n",
       "...     ...     ...\n",
       "3258  10861     1.0\n",
       "3259  10865     0.0\n",
       "3260  10868     1.0\n",
       "3261  10874     1.0\n",
       "3262  10875     1.0\n",
       "\n",
       "[3263 rows x 2 columns]"
      ]
     },
     "execution_count": 123,
     "metadata": {},
     "output_type": "execute_result"
    }
   ],
   "source": [
    "final"
   ]
  },
  {
   "cell_type": "code",
   "execution_count": null,
   "metadata": {},
   "outputs": [],
   "source": []
  }
 ],
 "metadata": {
  "kernelspec": {
   "display_name": "Python 3",
   "language": "python",
   "name": "python3"
  },
  "language_info": {
   "codemirror_mode": {
    "name": "ipython",
    "version": 3
   },
   "file_extension": ".py",
   "mimetype": "text/x-python",
   "name": "python",
   "nbconvert_exporter": "python",
   "pygments_lexer": "ipython3",
   "version": "3.7.3"
  }
 },
 "nbformat": 4,
 "nbformat_minor": 2
}
